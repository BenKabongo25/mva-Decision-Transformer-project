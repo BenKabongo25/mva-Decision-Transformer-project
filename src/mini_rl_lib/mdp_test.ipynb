{
 "cells": [
  {
   "cell_type": "markdown",
   "metadata": {},
   "source": [
    "## MDP Tests"
   ]
  },
  {
   "cell_type": "markdown",
   "metadata": {},
   "source": [
    "### Imports"
   ]
  },
  {
   "cell_type": "code",
   "execution_count": 1,
   "metadata": {},
   "outputs": [],
   "source": [
    "from random_mdp_factory import MDPFactory\n",
    "from enums import MDPTransitionType, MDPRewardType"
   ]
  },
  {
   "cell_type": "code",
   "execution_count": 2,
   "metadata": {},
   "outputs": [],
   "source": [
    "import numpy as np\n",
    "import warnings"
   ]
  },
  {
   "cell_type": "code",
   "execution_count": 3,
   "metadata": {},
   "outputs": [],
   "source": [
    "warnings.filterwarnings(action=\"ignore\")"
   ]
  },
  {
   "cell_type": "markdown",
   "metadata": {},
   "source": [
    "### Transition S Deterministic, Reward S"
   ]
  },
  {
   "cell_type": "code",
   "execution_count": 4,
   "metadata": {},
   "outputs": [],
   "source": [
    "factory_sd_s = MDPFactory(MDPTransitionType.S_DETERMINISTIC, MDPRewardType.S, 10, 4, 5)"
   ]
  },
  {
   "cell_type": "code",
   "execution_count": 5,
   "metadata": {},
   "outputs": [
    {
     "name": "stdout",
     "output_type": "stream",
     "text": [
      "Terminate : [False  True False False False False False False False False]\n",
      "Transitions : [7 3 9 1 1 1 0 5 4 8]\n",
      "Rewards : [ 0  1  0  0 -2 -2 -1 -1 -3 -2]\n"
     ]
    }
   ],
   "source": [
    "print(\"Terminate :\", factory_sd_s.terminate_s_flags)\n",
    "print(\"Transitions :\", factory_sd_s.transitions)\n",
    "print(\"Rewards :\", factory_sd_s.rewards)"
   ]
  },
  {
   "cell_type": "code",
   "execution_count": 6,
   "metadata": {},
   "outputs": [
    {
     "name": "stdout",
     "output_type": "stream",
     "text": [
      ". => 0 None False False {}\n",
      "0 => 7 0 False False {}\n",
      "0 => 5 -1 False False {}\n",
      "0 => 1 -2 True False {}\n"
     ]
    }
   ],
   "source": [
    "factory_sd_s.train_policy()\n",
    "factory_sd_s.play()"
   ]
  },
  {
   "cell_type": "markdown",
   "metadata": {},
   "source": [
    "### Transition S Probabilistic, Reward S"
   ]
  },
  {
   "cell_type": "code",
   "execution_count": 7,
   "metadata": {},
   "outputs": [],
   "source": [
    "factory_sp_s = MDPFactory(MDPTransitionType.S_PROBABILISTIC, MDPRewardType.S, 10, 5, 10)"
   ]
  },
  {
   "cell_type": "code",
   "execution_count": 8,
   "metadata": {},
   "outputs": [
    {
     "name": "stdout",
     "output_type": "stream",
     "text": [
      "Terminate : [False False False  True False False False False False False]\n",
      "Rewards : [-8 -1 -6  1 -1 -4 -7 -1 -4 -8]\n",
      "Transitions :\n",
      " [[0.09375    0.25       0.09375    0.1875     0.03125    0.125\n",
      "  0.03125    0.15625    0.         0.03125   ]\n",
      " [0.09615385 0.15384615 0.01923077 0.15384615 0.17307692 0.03846154\n",
      "  0.11538462 0.13461538 0.11538462 0.        ]\n",
      " [0.1509434  0.         0.11320755 0.05660377 0.1509434  0.11320755\n",
      "  0.13207547 0.0754717  0.0754717  0.13207547]\n",
      " [0.08571429 0.17142857 0.11428571 0.02857143 0.14285714 0.\n",
      "  0.11428571 0.11428571 0.2        0.02857143]\n",
      " [0.13513514 0.16216216 0.10810811 0.05405405 0.08108108 0.05405405\n",
      "  0.         0.08108108 0.10810811 0.21621622]\n",
      " [0.02222222 0.2        0.         0.04444444 0.13333333 0.13333333\n",
      "  0.13333333 0.11111111 0.15555556 0.06666667]\n",
      " [0.06122449 0.14285714 0.18367347 0.14285714 0.12244898 0.06122449\n",
      "  0.         0.12244898 0.10204082 0.06122449]\n",
      " [0.12195122 0.02439024 0.12195122 0.09756098 0.12195122 0.02439024\n",
      "  0.12195122 0.09756098 0.2195122  0.04878049]\n",
      " [0.11904762 0.02380952 0.07142857 0.21428571 0.07142857 0.21428571\n",
      "  0.07142857 0.         0.04761905 0.16666667]\n",
      " [0.1        0.12857143 0.1        0.11428571 0.11428571 0.05714286\n",
      "  0.04285714 0.08571429 0.12857143 0.12857143]]\n"
     ]
    }
   ],
   "source": [
    "print(\"Terminate :\", factory_sp_s.terminate_s_flags)\n",
    "print(\"Rewards :\", factory_sp_s.rewards)\n",
    "print(\"Transitions :\\n\", factory_sp_s.transitions)"
   ]
  },
  {
   "cell_type": "code",
   "execution_count": 9,
   "metadata": {},
   "outputs": [
    {
     "name": "stdout",
     "output_type": "stream",
     "text": [
      ". => 0 None False False {}\n",
      "0 => 5 -8 False False {}\n",
      "0 => 5 -4 False False {}\n",
      "0 => 8 -4 False False {}\n",
      "0 => 5 -4 False False {}\n",
      "0 => 1 -4 False False {}\n",
      "0 => 8 -1 False False {}\n",
      "0 => 6 -4 False False {}\n",
      "0 => 7 -7 False False {}\n",
      "0 => 1 -1 False False {}\n",
      "0 => 4 -1 False False {}\n",
      "0 => 2 -1 False False {}\n",
      "0 => 9 -6 False False {}\n",
      "0 => 6 -8 False False {}\n",
      "0 => 7 -7 False False {}\n",
      "0 => 4 -1 False False {}\n",
      "0 => 1 -1 False False {}\n",
      "0 => 4 -1 False False {}\n",
      "0 => 0 -1 False False {}\n",
      "0 => 7 -8 False False {}\n",
      "0 => 6 -1 False False {}\n",
      "0 => 7 -7 False False {}\n",
      "0 => 3 -1 True False {}\n"
     ]
    }
   ],
   "source": [
    "factory_sp_s.play()"
   ]
  },
  {
   "cell_type": "markdown",
   "metadata": {},
   "source": [
    "### Transition SA Deterministic, Reward SA"
   ]
  },
  {
   "cell_type": "code",
   "execution_count": 28,
   "metadata": {},
   "outputs": [
    {
     "name": "stdout",
     "output_type": "stream",
     "text": [
      "Terminate : [False False False False False False False False False  True]\n",
      "\n",
      "Rewards :\n",
      " [[-2 -6 -2  1 -7]\n",
      " [-2  0 -8 -7  1]\n",
      " [ 1 -4 -2 -4 -4]\n",
      " [ 1  1 -3 -3 -4]\n",
      " [-4  0 -6 -6 -2]\n",
      " [-1 -6 -2 -6 -7]\n",
      " [-2 -3 -6  1 -2]\n",
      " [ 1 -5 -3 -2 -8]\n",
      " [ 0 -1 -2 -5 -5]\n",
      " [-8 -5 -3 -5 -2]]\n",
      "\n",
      "Transitions :\n",
      " [[1 6 5 9 2]\n",
      " [0 2 4 5 9]\n",
      " [9 4 8 4 8]\n",
      " [9 9 4 1 8]\n",
      " [5 3 6 1 3]\n",
      " [6 6 5 4 8]\n",
      " [4 2 4 9 0]\n",
      " [9 7 0 4 2]\n",
      " [5 6 3 6 6]\n",
      " [2 5 3 1 4]]\n"
     ]
    }
   ],
   "source": [
    "factory_sad_sa = MDPFactory(MDPTransitionType.SA_DETERMINISTIC, MDPRewardType.SA, 10, 5, 10, p=0.01, eps=1e-6)\n",
    "print(\"Terminate :\", factory_sad_sa.terminate_s_flags)\n",
    "print(\"\\nRewards :\\n\", factory_sad_sa.rewards)\n",
    "print(\"\\nTransitions :\\n\", factory_sad_sa.transitions)"
   ]
  },
  {
   "cell_type": "code",
   "execution_count": 29,
   "metadata": {},
   "outputs": [
    {
     "name": "stdout",
     "output_type": "stream",
     "text": [
      ". => 0 None False False {}\n",
      "0 => 1 -2 False False {}\n",
      "0 => 0 -2 False False {}\n",
      "0 => 1 -2 False False {}\n",
      "0 => 0 -2 False False {}\n",
      "0 => 1 -2 False False {}\n",
      "0 => 0 -2 False False {}\n",
      "0 => 1 -2 False False {}\n",
      "0 => 0 -2 False False {}\n",
      "0 => 1 -2 False False {}\n",
      "0 => 0 -2 False False {}\n",
      "0 => 1 -2 False False {}\n",
      "0 => 0 -2 False False {}\n",
      "0 => 1 -2 False False {}\n",
      "0 => 0 -2 False False {}\n",
      "0 => 1 -2 False False {}\n",
      "0 => 0 -2 False False {}\n",
      "0 => 1 -2 False False {}\n",
      "0 => 0 -2 False False {}\n",
      "0 => 1 -2 False False {}\n",
      "0 => 0 -2 False False {}\n",
      "0 => 1 -2 False False {}\n",
      "0 => 0 -2 False False {}\n",
      "0 => 1 -2 False False {}\n",
      "0 => 0 -2 False False {}\n",
      "0 => 1 -2 False False {}\n",
      "0 => 0 -2 False False {}\n",
      "0 => 1 -2 False False {}\n",
      "0 => 0 -2 False False {}\n",
      "0 => 1 -2 False False {}\n",
      "0 => 0 -2 False False {}\n",
      "0 => 1 -2 False False {}\n",
      "0 => 0 -2 False False {}\n",
      "0 => 1 -2 False False {}\n",
      "0 => 0 -2 False False {}\n",
      "0 => 1 -2 False False {}\n",
      "0 => 0 -2 False False {}\n",
      "0 => 1 -2 False False {}\n",
      "0 => 0 -2 False False {}\n",
      "0 => 1 -2 False False {}\n",
      "0 => 0 -2 False False {}\n",
      "0 => 1 -2 False False {}\n",
      "0 => 0 -2 False False {}\n",
      "0 => 1 -2 False False {}\n",
      "0 => 0 -2 False False {}\n",
      "0 => 1 -2 False False {}\n",
      "0 => 0 -2 False False {}\n",
      "0 => 1 -2 False False {}\n",
      "0 => 0 -2 False False {}\n",
      "0 => 1 -2 False False {}\n",
      "0 => 0 -2 False False {}\n",
      "0 => 1 -2 False False {}\n",
      "0 => 0 -2 False False {}\n",
      "0 => 1 -2 False False {}\n",
      "0 => 0 -2 False False {}\n",
      "0 => 1 -2 False False {}\n",
      "0 => 0 -2 False False {}\n",
      "0 => 1 -2 False False {}\n",
      "0 => 0 -2 False False {}\n",
      "0 => 1 -2 False False {}\n",
      "0 => 0 -2 False False {}\n",
      "0 => 1 -2 False False {}\n",
      "0 => 0 -2 False False {}\n",
      "0 => 1 -2 False False {}\n",
      "0 => 0 -2 False False {}\n",
      "0 => 1 -2 False False {}\n",
      "0 => 0 -2 False False {}\n",
      "0 => 1 -2 False False {}\n",
      "0 => 0 -2 False False {}\n",
      "0 => 1 -2 False False {}\n",
      "0 => 0 -2 False False {}\n",
      "0 => 1 -2 False False {}\n",
      "0 => 0 -2 False False {}\n",
      "0 => 1 -2 False False {}\n",
      "0 => 0 -2 False False {}\n",
      "0 => 1 -2 False False {}\n",
      "0 => 0 -2 False False {}\n",
      "0 => 1 -2 False False {}\n",
      "0 => 0 -2 False False {}\n",
      "0 => 1 -2 False False {}\n",
      "0 => 0 -2 False False {}\n",
      "0 => 1 -2 False False {}\n",
      "0 => 0 -2 False False {}\n",
      "0 => 1 -2 False False {}\n",
      "0 => 0 -2 False False {}\n",
      "0 => 1 -2 False False {}\n",
      "0 => 0 -2 False False {}\n",
      "0 => 1 -2 False False {}\n",
      "0 => 0 -2 False False {}\n",
      "0 => 1 -2 False False {}\n",
      "0 => 0 -2 False False {}\n",
      "0 => 1 -2 False False {}\n",
      "0 => 0 -2 False False {}\n",
      "0 => 1 -2 False False {}\n",
      "0 => 0 -2 False False {}\n",
      "0 => 1 -2 False False {}\n",
      "0 => 0 -2 False False {}\n",
      "0 => 1 -2 False False {}\n",
      "0 => 0 -2 False False {}\n",
      "0 => 1 -2 False False {}\n",
      "0 => 0 -2 False False {}\n"
     ]
    }
   ],
   "source": [
    "factory_sad_sa.play()"
   ]
  },
  {
   "cell_type": "code",
   "execution_count": 30,
   "metadata": {},
   "outputs": [
    {
     "data": {
      "text/plain": [
       "array([3, 1, 0, 0, 1, 0, 3, 0, 0, 4])"
      ]
     },
     "execution_count": 30,
     "metadata": {},
     "output_type": "execute_result"
    }
   ],
   "source": [
    "factory_sad_sa.train_policy()\n",
    "factory_sad_sa.get_policy()"
   ]
  },
  {
   "cell_type": "code",
   "execution_count": 31,
   "metadata": {},
   "outputs": [
    {
     "name": "stdout",
     "output_type": "stream",
     "text": [
      ". => 0 None False False {}\n",
      "3 => 9 1 True False {}\n"
     ]
    }
   ],
   "source": [
    "factory_sad_sa.play()"
   ]
  }
 ],
 "metadata": {
  "kernelspec": {
   "display_name": "Python 3.11.0 64-bit",
   "language": "python",
   "name": "python3"
  },
  "language_info": {
   "codemirror_mode": {
    "name": "ipython",
    "version": 3
   },
   "file_extension": ".py",
   "mimetype": "text/x-python",
   "name": "python",
   "nbconvert_exporter": "python",
   "pygments_lexer": "ipython3",
   "version": "3.11.0"
  },
  "orig_nbformat": 4,
  "vscode": {
   "interpreter": {
    "hash": "aee8b7b246df8f9039afb4144a1f6fd8d2ca17a180786b69acc140d282b71a49"
   }
  }
 },
 "nbformat": 4,
 "nbformat_minor": 2
}
